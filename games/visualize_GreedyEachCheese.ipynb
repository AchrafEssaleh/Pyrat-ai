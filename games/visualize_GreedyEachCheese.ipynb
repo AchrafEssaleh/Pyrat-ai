{
 "cells": [
  {
   "cell_type": "code",
   "execution_count": 1,
   "metadata": {},
   "outputs": [],
   "source": [
    "# External imports\n",
    "import sys\n",
    "import os\n",
    "import pprint\n",
    "\n",
    "# Add needed directories to the path\n",
    "sys.path.append(os.path.join(\"..\", \"players\"))\n",
    "\n",
    "# PyRat imports\n",
    "from pyrat import Game\n",
    "from GreedyEachCheese import GreedyEachCheese\n"
   ]
  },
  {
   "cell_type": "code",
   "execution_count": 2,
   "metadata": {},
   "outputs": [],
   "source": [
    "# Customize the game elements\n",
    "CONFIG = {\"mud_percentage\": 10,\n",
    "          \"nb_cheese\": 6,\n",
    "          \"random_seed\": 42,\n",
    "          \"trace_length\": 1}"
   ]
  },
  {
   "cell_type": "markdown",
   "metadata": {},
   "source": []
  },
  {
   "cell_type": "code",
   "execution_count": 4,
   "metadata": {},
   "outputs": [
    {
     "name": "stderr",
     "output_type": "stream",
     "text": [
      "2024-12-05 01:33:45.154 Python[22992:1667725] +[IMKClient subclass]: chose IMKClient_Modern\n",
      "2024-12-05 01:33:45.154 Python[22992:1667725] +[IMKInputSession subclass]: chose IMKInputSession_Modern\n"
     ]
    }
   ],
   "source": [
    "# Instantiate a game with specified arguments\n",
    "game = Game(**CONFIG)\n",
    "\n",
    "# Instantiate a player and add it to the game\n",
    "player = GreedyEachCheese()\n",
    "game.add_player(player)\n",
    "\n",
    "# Start the game and\n",
    "stats = game.start()"
   ]
  },
  {
   "cell_type": "code",
   "execution_count": null,
   "metadata": {},
   "outputs": [],
   "source": []
  },
  {
   "cell_type": "code",
   "execution_count": 4,
   "metadata": {},
   "outputs": [
    {
     "name": "stdout",
     "output_type": "stream",
     "text": [
      "{'players': {'Greedy': {'actions': {'east': 21,\n",
      "                                    'error': 0,\n",
      "                                    'miss': 0,\n",
      "                                    'mud': 0,\n",
      "                                    'north': 11,\n",
      "                                    'nothing': 0,\n",
      "                                    'south': 16,\n",
      "                                    'wall': 0,\n",
      "                                    'west': 15},\n",
      "                        'preprocessing_duration': 9.999999999843467e-06,\n",
      "                        'score': 6.0,\n",
      "                        'team': '',\n",
      "                        'turn_durations': [0.0025489999999999124,\n",
      "                                           0.0016689999999999205,\n",
      "                                           0.001503000000000032,\n",
      "                                           0.0025889999999999525,\n",
      "                                           0.004946999999999813,\n",
      "                                           0.0031479999999999286,\n",
      "                                           0.0025680000000001257,\n",
      "                                           0.0018299999999999983,\n",
      "                                           0.0017260000000001163,\n",
      "                                           0.0017220000000000013,\n",
      "                                           0.0016819999999999613,\n",
      "                                           0.0016610000000001346,\n",
      "                                           0.0016170000000002016,\n",
      "                                           0.0016359999999999708,\n",
      "                                           0.0017210000000000836,\n",
      "                                           0.0018540000000000223,\n",
      "                                           0.0017180000000001083,\n",
      "                                           0.0024169999999998915,\n",
      "                                           0.0023569999999999425,\n",
      "                                           0.0026400000000001977,\n",
      "                                           0.0025929999999998454,\n",
      "                                           0.0028360000000000607,\n",
      "                                           0.0028330000000000854,\n",
      "                                           0.0031840000000000757,\n",
      "                                           0.003970999999999947,\n",
      "                                           0.00402099999999983,\n",
      "                                           0.003826000000000107,\n",
      "                                           0.003920000000000146,\n",
      "                                           0.0038880000000001136,\n",
      "                                           0.0032600000000000406,\n",
      "                                           0.0017720000000001068,\n",
      "                                           0.0038890000000000313,\n",
      "                                           0.0031520000000000437,\n",
      "                                           0.0027530000000000054,\n",
      "                                           0.0027649999999999064,\n",
      "                                           0.0023979999999999,\n",
      "                                           0.0023809999999999665,\n",
      "                                           0.002554999999999863,\n",
      "                                           0.002774999999999972,\n",
      "                                           0.002383000000000024,\n",
      "                                           0.0028369999999999784,\n",
      "                                           0.0024660000000000792,\n",
      "                                           0.0023720000000000407,\n",
      "                                           0.0028639999999999777,\n",
      "                                           0.002763000000000071,\n",
      "                                           0.00279000000000007,\n",
      "                                           0.002726000000000006,\n",
      "                                           0.0030930000000000124,\n",
      "                                           0.002887000000000084,\n",
      "                                           0.0032570000000000654,\n",
      "                                           0.003051000000000137,\n",
      "                                           0.003211000000000075,\n",
      "                                           0.0032240000000001157,\n",
      "                                           0.002866000000000035,\n",
      "                                           0.002815000000000012,\n",
      "                                           0.003038000000000096,\n",
      "                                           0.0027620000000001532,\n",
      "                                           0.0027759999999998897,\n",
      "                                           0.002454999999999874,\n",
      "                                           0.002745999999999915,\n",
      "                                           0.0033129999999998994,\n",
      "                                           0.003738999999999937,\n",
      "                                           0.003929000000000071]}},\n",
      " 'turns': 63}\n"
     ]
    }
   ],
   "source": [
    "# Show statistics\n",
    "pprint.pprint(stats)"
   ]
  },
  {
   "cell_type": "code",
   "execution_count": null,
   "metadata": {},
   "outputs": [],
   "source": []
  }
 ],
 "metadata": {
  "kernelspec": {
   "display_name": "Python 3",
   "language": "python",
   "name": "python3"
  },
  "language_info": {
   "codemirror_mode": {
    "name": "ipython",
    "version": 3
   },
   "file_extension": ".py",
   "mimetype": "text/x-python",
   "name": "python",
   "nbconvert_exporter": "python",
   "pygments_lexer": "ipython3",
   "version": "3.12.6"
  }
 },
 "nbformat": 4,
 "nbformat_minor": 2
}
